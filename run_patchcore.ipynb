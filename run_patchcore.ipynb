{
  "cells": [
    {
      "cell_type": "markdown",
      "metadata": {
        "id": "_8SLZRybdGQb"
      },
      "source": [
        "# Unsupervised Anomaly Detection on fastMRI"
      ]
    },
    {
      "cell_type": "markdown",
      "metadata": {
        "id": "dZ78HqrSdGQd"
      },
      "source": [
        "### *Run these cells only when in Google Colab*"
      ]
    },
    {
      "cell_type": "code",
      "execution_count": 1,
      "metadata": {
        "colab": {
          "base_uri": "https://localhost:8080/"
        },
        "id": "mTWYsxjEdGQe",
        "outputId": "3d344b8e-e1a1-4a4a-efe5-6b84a6d4c478"
      },
      "outputs": [
        {
          "output_type": "stream",
          "name": "stdout",
          "text": [
            "--2023-07-19 00:30:07--  https://syncandshare.lrz.de/dl/fiNRBX6FN1Vh67NqugzqKo/data.zip\n",
            "Resolving syncandshare.lrz.de (syncandshare.lrz.de)... 129.187.255.213\n",
            "Connecting to syncandshare.lrz.de (syncandshare.lrz.de)|129.187.255.213|:443... connected.\n",
            "HTTP request sent, awaiting response... 200 OK\n",
            "Length: 40922332 (39M) [application/x-zip-compressed]\n",
            "Saving to: ‘data.zip’\n",
            "\n",
            "data.zip            100%[===================>]  39.03M   310KB/s    in 2m 16s  \n",
            "\n",
            "2023-07-19 00:32:25 (294 KB/s) - ‘data.zip’ saved [40922332/40922332]\n",
            "\n"
          ]
        }
      ],
      "source": [
        "!wget https://syncandshare.lrz.de/dl/fiNRBX6FN1Vh67NqugzqKo/data.zip\n",
        "!unzip -q ./data.zip"
      ]
    },
    {
      "cell_type": "markdown",
      "metadata": {
        "id": "Xc7mfiwFdGQf"
      },
      "source": [
        "### *Install requirements*"
      ]
    },
    {
      "cell_type": "code",
      "execution_count": 2,
      "metadata": {
        "colab": {
          "base_uri": "https://localhost:8080/"
        },
        "id": "QyR_5dS2dGQf",
        "outputId": "30310494-7ca0-4e5a-ebbf-506efc8d4d96"
      },
      "outputs": [
        {
          "output_type": "stream",
          "name": "stdout",
          "text": [
            "\u001b[?25l     \u001b[90m━━━━━━━━━━━━━━━━━━━━━━━━━━━━━━━━━━━━━━━━\u001b[0m \u001b[32m0.0/722.4 kB\u001b[0m \u001b[31m?\u001b[0m eta \u001b[36m-:--:--\u001b[0m\r\u001b[2K     \u001b[90m━━━━━━━━━━━━━━━━━━━━━━━━━━━━━━━━━━━━━━\u001b[0m \u001b[32m722.4/722.4 kB\u001b[0m \u001b[31m31.8 MB/s\u001b[0m eta \u001b[36m0:00:00\u001b[0m\n",
            "\u001b[?25h\u001b[?25l     \u001b[90m━━━━━━━━━━━━━━━━━━━━━━━━━━━━━━━━━━━━━━━━\u001b[0m \u001b[32m0.0/1.1 MB\u001b[0m \u001b[31m?\u001b[0m eta \u001b[36m-:--:--\u001b[0m\r\u001b[2K     \u001b[90m━━━━━━━━━━━━━━━━━━━━━━━━━━━━━━━━━━━━━━━━\u001b[0m \u001b[32m1.1/1.1 MB\u001b[0m \u001b[31m74.3 MB/s\u001b[0m eta \u001b[36m0:00:00\u001b[0m\n",
            "\u001b[2K     \u001b[90m━━━━━━━━━━━━━━━━━━━━━━━━━━━━━━━━━━━━━━━━\u001b[0m \u001b[32m53.8/53.8 kB\u001b[0m \u001b[31m6.6 MB/s\u001b[0m eta \u001b[36m0:00:00\u001b[0m\n",
            "\u001b[2K     \u001b[90m━━━━━━━━━━━━━━━━━━━━━━━━━━━━━━━━━━━━━━━━\u001b[0m \u001b[32m85.5/85.5 MB\u001b[0m \u001b[31m9.3 MB/s\u001b[0m eta \u001b[36m0:00:00\u001b[0m\n",
            "\u001b[2K     \u001b[90m━━━━━━━━━━━━━━━━━━━━━━━━━━━━━━━━━━━━━━━━\u001b[0m \u001b[32m58.8/58.8 kB\u001b[0m \u001b[31m6.9 MB/s\u001b[0m eta \u001b[36m0:00:00\u001b[0m\n",
            "\u001b[?25h  Preparing metadata (setup.py) ... \u001b[?25l\u001b[?25hdone\n",
            "\u001b[2K     \u001b[90m━━━━━━━━━━━━━━━━━━━━━━━━━━━━━━━━━━━━━━━━\u001b[0m \u001b[32m2.2/2.2 MB\u001b[0m \u001b[31m97.0 MB/s\u001b[0m eta \u001b[36m0:00:00\u001b[0m\n",
            "\u001b[2K     \u001b[90m━━━━━━━━━━━━━━━━━━━━━━━━━━━━━━━━━━━━━━\u001b[0m \u001b[32m729.2/729.2 kB\u001b[0m \u001b[31m62.0 MB/s\u001b[0m eta \u001b[36m0:00:00\u001b[0m\n",
            "\u001b[2K     \u001b[90m━━━━━━━━━━━━━━━━━━━━━━━━━━━━━━━━━━━━━━\u001b[0m \u001b[32m268.8/268.8 kB\u001b[0m \u001b[31m28.2 MB/s\u001b[0m eta \u001b[36m0:00:00\u001b[0m\n",
            "\u001b[2K     \u001b[90m━━━━━━━━━━━━━━━━━━━━━━━━━━━━━━━━━━━━━━━━\u001b[0m \u001b[32m1.3/1.3 MB\u001b[0m \u001b[31m81.6 MB/s\u001b[0m eta \u001b[36m0:00:00\u001b[0m\n",
            "\u001b[2K     \u001b[90m━━━━━━━━━━━━━━━━━━━━━━━━━━━━━━━━━━━━━━━━\u001b[0m \u001b[32m1.6/1.6 MB\u001b[0m \u001b[31m81.6 MB/s\u001b[0m eta \u001b[36m0:00:00\u001b[0m\n",
            "\u001b[?25h  Building wheel for pretrainedmodels (setup.py) ... \u001b[?25l\u001b[?25hdone\n"
          ]
        }
      ],
      "source": [
        "!pip install -r requirements_gpu.txt --quiet"
      ]
    },
    {
      "cell_type": "markdown",
      "metadata": {
        "id": "WzclHPaadGQg"
      },
      "source": [
        "## Imports"
      ]
    },
    {
      "cell_type": "code",
      "execution_count": 3,
      "metadata": {
        "id": "rE65wzhQdGQg"
      },
      "outputs": [],
      "source": [
        "import matplotlib\n",
        "import matplotlib.pyplot as plt\n",
        "matplotlib.use(\"Agg\")\n",
        "import pytorch_lightning as pl\n",
        "import torch\n",
        "import yaml\n",
        "import plotly.graph_objects as go\n",
        "import numpy as np\n",
        "\n",
        "from model import PatchCoreModel\n",
        "\n",
        "# autoreload imported modules\n",
        "%load_ext autoreload\n",
        "%autoreload 2"
      ]
    },
    {
      "cell_type": "markdown",
      "metadata": {
        "id": "o2ZS4Z3NdGQg"
      },
      "source": [
        "## Load the config"
      ]
    },
    {
      "cell_type": "code",
      "execution_count": 4,
      "metadata": {
        "colab": {
          "base_uri": "https://localhost:8080/"
        },
        "id": "g-oVqSHMdGQg",
        "outputId": "4768bee9-eada-4414-da26-d27527b48340"
      },
      "outputs": [
        {
          "output_type": "stream",
          "name": "stderr",
          "text": [
            "INFO:lightning_fabric.utilities.seed:Global seed set to 42\n"
          ]
        },
        {
          "output_type": "execute_result",
          "data": {
            "text/plain": [
              "42"
            ]
          },
          "metadata": {},
          "execution_count": 4
        }
      ],
      "source": [
        "with open('./configs/config.yaml', 'r') as f:\n",
        "    config = yaml.safe_load(f)\n",
        "\n",
        "# Reproducibility\n",
        "pl.seed_everything(config['seed'])"
      ]
    },
    {
      "cell_type": "markdown",
      "metadata": {
        "id": "-l85OhsJdGQg"
      },
      "source": [
        "## Check device"
      ]
    },
    {
      "cell_type": "code",
      "execution_count": 5,
      "metadata": {
        "colab": {
          "base_uri": "https://localhost:8080/"
        },
        "id": "eflPajO4dGQh",
        "outputId": "62115515-5b20-4801-ab35-0a155f923d4d"
      },
      "outputs": [
        {
          "output_type": "stream",
          "name": "stdout",
          "text": [
            "True\n"
          ]
        }
      ],
      "source": [
        "on_gpu = torch.cuda.is_available()\n",
        "print(on_gpu)"
      ]
    },
    {
      "cell_type": "markdown",
      "metadata": {
        "id": "OKpNsdDpdGQh"
      },
      "source": [
        "## Prepare the model"
      ]
    },
    {
      "cell_type": "code",
      "execution_count": 6,
      "metadata": {
        "id": "wUls1dC2dGQh"
      },
      "outputs": [],
      "source": [
        "model = PatchCoreModel(\n",
        "    seed=config['seed'],\n",
        "    split_dir=config['split_dir'],\n",
        "    target_size=config['target_size'],\n",
        "    batch_size=config['batch_size'],\n",
        "    sampling_percentage=config['sampling_percentage'],\n",
        "    backbone_names=config['backbone_ensemble'],\n",
        "    layers_to_extract_from=config['layers_ensemble_bb'],\n",
        "    neighbour_num=config['neighbour_num'],\n",
        "    pathologies=config['pathologies'],\n",
        "    plot_pathology=config['plot_pathology'],\n",
        "    test_img_path=config['resection_test_image_paths'],\n",
        "    test_mask_path=config['resection_test_mask_paths']\n",
        ")"
      ]
    },
    {
      "cell_type": "markdown",
      "metadata": {
        "id": "jg66AxQvdGQh"
      },
      "source": [
        "## Train the model"
      ]
    },
    {
      "cell_type": "code",
      "execution_count": 7,
      "metadata": {
        "colab": {
          "base_uri": "https://localhost:8080/",
          "height": 1000,
          "referenced_widgets": [
            "5d6585e921194ee3a5a1121b903f9ee3",
            "1853da377ac4424e845f3f51e86290d9",
            "9477f672d67a48f8b14a7b95e19de1c4",
            "1df72780881e4aa2bd2308b6d41af5a4",
            "19d60540278f47d59f26cc5a498d3372",
            "6d3ebc5322d94673a90876d917f13798",
            "c34f7d40409043588df52619af40140d",
            "afd2db06021842c5b24e4e030ff65094",
            "f580342e55b64ff08e14b512e2c5dc51",
            "4c9f52461787413e8c2884e4c8de7668",
            "189efb1123d74709b206316153b174d3"
          ]
        },
        "id": "3djwE1DqdGQh",
        "outputId": "9fab84c6-5981-4044-ddcf-4800d4a82640"
      },
      "outputs": [
        {
          "output_type": "stream",
          "name": "stdout",
          "text": [
            "Using 711 IXI images and 130 fastMRI images for training. Using 15 images for validation.\n"
          ]
        },
        {
          "output_type": "stream",
          "name": "stderr",
          "text": [
            "/usr/local/lib/python3.10/dist-packages/torchvision/models/_utils.py:208: UserWarning: The parameter 'pretrained' is deprecated since 0.13 and may be removed in the future, please use 'weights' instead.\n",
            "  warnings.warn(\n",
            "/usr/local/lib/python3.10/dist-packages/torchvision/models/_utils.py:223: UserWarning: Arguments other than a weight enum or `None` for 'weights' are deprecated since 0.13 and may be removed in the future. The current behavior is equivalent to passing `weights=Wide_ResNet101_2_Weights.IMAGENET1K_V1`. You can also use `weights=Wide_ResNet101_2_Weights.DEFAULT` to get the most up-to-date weights.\n",
            "  warnings.warn(msg)\n",
            "Downloading: \"https://download.pytorch.org/models/wide_resnet101_2-32ee1156.pth\" to /root/.cache/torch/hub/checkpoints/wide_resnet101_2-32ee1156.pth\n",
            "100%|██████████| 243M/243M [00:15<00:00, 16.8MB/s]\n",
            "/usr/local/lib/python3.10/dist-packages/torchvision/models/_utils.py:223: UserWarning: Arguments other than a weight enum or `None` for 'weights' are deprecated since 0.13 and may be removed in the future. The current behavior is equivalent to passing `weights=ResNeXt101_32X8D_Weights.IMAGENET1K_V1`. You can also use `weights=ResNeXt101_32X8D_Weights.DEFAULT` to get the most up-to-date weights.\n",
            "  warnings.warn(msg)\n",
            "Downloading: \"https://download.pytorch.org/models/resnext101_32x8d-8ba56ff5.pth\" to /root/.cache/torch/hub/checkpoints/resnext101_32x8d-8ba56ff5.pth\n",
            "100%|██████████| 340M/340M [00:02<00:00, 172MB/s]\n"
          ]
        },
        {
          "output_type": "display_data",
          "data": {
            "text/plain": [
              "Downloading model.safetensors:   0%|          | 0.00/81.1M [00:00<?, ?B/s]"
            ],
            "application/vnd.jupyter.widget-view+json": {
              "version_major": 2,
              "version_minor": 0,
              "model_id": "5d6585e921194ee3a5a1121b903f9ee3"
            }
          },
          "metadata": {}
        },
        {
          "output_type": "stream",
          "name": "stdout",
          "text": [
            "Training model wideresnet101 (1/3)\n"
          ]
        },
        {
          "output_type": "stream",
          "name": "stderr",
          "text": [
            "\n",
            "Computing support features...:   0%|          | 0/27 [00:00<?, ?it/s]\u001b[A\n",
            "Computing support features...:   4%|▎         | 1/27 [00:00<00:15,  1.70it/s]\u001b[A\n",
            "Computing support features...:   7%|▋         | 2/27 [00:01<00:12,  1.97it/s]\u001b[A\n",
            "Computing support features...:  11%|█         | 3/27 [00:01<00:13,  1.73it/s]\u001b[A\n",
            "Computing support features...:  15%|█▍        | 4/27 [00:02<00:12,  1.89it/s]\u001b[A\n",
            "Computing support features...:  19%|█▊        | 5/27 [00:02<00:11,  1.96it/s]\u001b[A\n",
            "Computing support features...:  22%|██▏       | 6/27 [00:03<00:10,  2.03it/s]\u001b[A\n",
            "Computing support features...:  26%|██▌       | 7/27 [00:03<00:09,  2.07it/s]\u001b[A\n",
            "Computing support features...:  30%|██▉       | 8/27 [00:04<00:09,  2.08it/s]\u001b[A\n",
            "Computing support features...:  33%|███▎      | 9/27 [00:04<00:08,  2.12it/s]\u001b[A\n",
            "Computing support features...:  37%|███▋      | 10/27 [00:05<00:09,  1.89it/s]\u001b[A\n",
            "Computing support features...:  41%|████      | 11/27 [00:05<00:08,  1.93it/s]\u001b[A\n",
            "Computing support features...:  44%|████▍     | 12/27 [00:06<00:07,  1.95it/s]\u001b[A\n",
            "Computing support features...:  48%|████▊     | 13/27 [00:06<00:07,  1.88it/s]\u001b[A\n",
            "Computing support features...:  52%|█████▏    | 14/27 [00:07<00:07,  1.84it/s]\u001b[A\n",
            "Computing support features...:  56%|█████▌    | 15/27 [00:07<00:06,  1.81it/s]\u001b[A\n",
            "Computing support features...:  59%|█████▉    | 16/27 [00:08<00:06,  1.78it/s]\u001b[A\n",
            "Computing support features...:  63%|██████▎   | 17/27 [00:09<00:05,  1.77it/s]\u001b[A\n",
            "Computing support features...:  67%|██████▋   | 18/27 [00:09<00:04,  1.84it/s]\u001b[A\n",
            "Computing support features...:  70%|███████   | 19/27 [00:09<00:04,  1.89it/s]\u001b[A\n",
            "Computing support features...:  74%|███████▍  | 20/27 [00:10<00:03,  1.95it/s]\u001b[A\n",
            "Computing support features...:  78%|███████▊  | 21/27 [00:10<00:03,  2.00it/s]\u001b[A\n",
            "Computing support features...:  81%|████████▏ | 22/27 [00:11<00:02,  2.02it/s]\u001b[A\n",
            "Computing support features...:  85%|████████▌ | 23/27 [00:11<00:01,  2.03it/s]\u001b[A\n",
            "Computing support features...:  89%|████████▉ | 24/27 [00:12<00:01,  2.06it/s]\u001b[A\n",
            "Computing support features...:  93%|█████████▎| 25/27 [00:12<00:00,  2.08it/s]\u001b[A\n",
            "Computing support features...:  96%|█████████▋| 26/27 [00:13<00:00,  2.08it/s]\u001b[A\n",
            "Computing support features...: 100%|██████████| 27/27 [00:13<00:00,  2.55it/s]\u001b[A\n",
            "Subsampling...: 100%|██████████| 21529/21529 [00:35<00:00, 608.89it/s]\n"
          ]
        },
        {
          "output_type": "stream",
          "name": "stdout",
          "text": [
            "Training model resnext101 (2/3)\n"
          ]
        },
        {
          "output_type": "stream",
          "name": "stderr",
          "text": [
            "\n",
            "Computing support features...:   0%|          | 0/27 [00:00<?, ?it/s]\u001b[A\n",
            "Computing support features...:   4%|▎         | 1/27 [00:00<00:12,  2.13it/s]\u001b[A\n",
            "Computing support features...:   7%|▋         | 2/27 [00:00<00:11,  2.14it/s]\u001b[A\n",
            "Computing support features...:  11%|█         | 3/27 [00:01<00:11,  2.14it/s]\u001b[A\n",
            "Computing support features...:  15%|█▍        | 4/27 [00:01<00:10,  2.12it/s]\u001b[A\n",
            "Computing support features...:  19%|█▊        | 5/27 [00:02<00:10,  2.11it/s]\u001b[A\n",
            "Computing support features...:  22%|██▏       | 6/27 [00:02<00:09,  2.10it/s]\u001b[A\n",
            "Computing support features...:  26%|██▌       | 7/27 [00:03<00:09,  2.10it/s]\u001b[A\n",
            "Computing support features...:  30%|██▉       | 8/27 [00:03<00:09,  2.11it/s]\u001b[A\n",
            "Computing support features...:  33%|███▎      | 9/27 [00:04<00:09,  1.86it/s]\u001b[A\n",
            "Computing support features...:  37%|███▋      | 10/27 [00:04<00:08,  1.93it/s]\u001b[A\n",
            "Computing support features...:  41%|████      | 11/27 [00:05<00:08,  1.98it/s]\u001b[A\n",
            "Computing support features...:  44%|████▍     | 12/27 [00:06<00:08,  1.85it/s]\u001b[A\n",
            "Computing support features...:  48%|████▊     | 13/27 [00:06<00:07,  1.92it/s]\u001b[A\n",
            "Computing support features...:  52%|█████▏    | 14/27 [00:07<00:07,  1.80it/s]\u001b[A\n",
            "Computing support features...:  56%|█████▌    | 15/27 [00:07<00:07,  1.69it/s]\u001b[A\n",
            "Computing support features...:  59%|█████▉    | 16/27 [00:08<00:06,  1.71it/s]\u001b[A\n",
            "Computing support features...:  63%|██████▎   | 17/27 [00:09<00:06,  1.51it/s]\u001b[A\n",
            "Computing support features...:  67%|██████▋   | 18/27 [00:09<00:05,  1.55it/s]\u001b[A\n",
            "Computing support features...:  70%|███████   | 19/27 [00:10<00:05,  1.58it/s]\u001b[A\n",
            "Computing support features...:  74%|███████▍  | 20/27 [00:10<00:04,  1.67it/s]\u001b[A\n",
            "Computing support features...:  78%|███████▊  | 21/27 [00:11<00:03,  1.74it/s]\u001b[A\n",
            "Computing support features...:  81%|████████▏ | 22/27 [00:11<00:02,  1.82it/s]\u001b[A\n",
            "Computing support features...:  85%|████████▌ | 23/27 [00:12<00:02,  1.87it/s]\u001b[A\n",
            "Computing support features...:  89%|████████▉ | 24/27 [00:12<00:01,  1.90it/s]\u001b[A\n",
            "Computing support features...:  93%|█████████▎| 25/27 [00:13<00:01,  1.92it/s]\u001b[A\n",
            "Computing support features...:  96%|█████████▋| 26/27 [00:14<00:00,  1.72it/s]\u001b[A\n",
            "Computing support features...: 100%|██████████| 27/27 [00:14<00:00,  2.20it/s]\u001b[A\n",
            "Subsampling...: 100%|██████████| 21529/21529 [00:37<00:00, 580.96it/s]\n"
          ]
        },
        {
          "output_type": "stream",
          "name": "stdout",
          "text": [
            "Training model densenet201 (3/3)\n"
          ]
        },
        {
          "output_type": "stream",
          "name": "stderr",
          "text": [
            "\n",
            "Computing support features...:   0%|          | 0/27 [00:00<?, ?it/s]\u001b[A\n",
            "Computing support features...:   4%|▎         | 1/27 [00:00<00:15,  1.71it/s]\u001b[A\n",
            "Computing support features...:   7%|▋         | 2/27 [00:01<00:13,  1.81it/s]\u001b[A\n",
            "Computing support features...:  11%|█         | 3/27 [00:01<00:12,  1.85it/s]\u001b[A\n",
            "Computing support features...:  15%|█▍        | 4/27 [00:02<00:12,  1.85it/s]\u001b[A\n",
            "Computing support features...:  19%|█▊        | 5/27 [00:02<00:11,  1.87it/s]\u001b[A\n",
            "Computing support features...:  22%|██▏       | 6/27 [00:03<00:11,  1.87it/s]\u001b[A\n",
            "Computing support features...:  26%|██▌       | 7/27 [00:03<00:10,  1.89it/s]\u001b[A\n",
            "Computing support features...:  30%|██▉       | 8/27 [00:04<00:09,  1.91it/s]\u001b[A\n",
            "Computing support features...:  33%|███▎      | 9/27 [00:04<00:09,  1.91it/s]\u001b[A\n",
            "Computing support features...:  37%|███▋      | 10/27 [00:05<00:10,  1.70it/s]\u001b[A\n",
            "Computing support features...:  41%|████      | 11/27 [00:06<00:09,  1.74it/s]\u001b[A\n",
            "Computing support features...:  44%|████▍     | 12/27 [00:06<00:08,  1.78it/s]\u001b[A\n",
            "Computing support features...:  48%|████▊     | 13/27 [00:07<00:07,  1.80it/s]\u001b[A\n",
            "Computing support features...:  52%|█████▏    | 14/27 [00:07<00:07,  1.79it/s]\u001b[A\n",
            "Computing support features...:  56%|█████▌    | 15/27 [00:08<00:06,  1.73it/s]\u001b[A\n",
            "Computing support features...:  59%|█████▉    | 16/27 [00:08<00:06,  1.69it/s]\u001b[A\n",
            "Computing support features...:  63%|██████▎   | 17/27 [00:09<00:06,  1.65it/s]\u001b[A\n",
            "Computing support features...:  67%|██████▋   | 18/27 [00:10<00:05,  1.64it/s]\u001b[A\n",
            "Computing support features...:  70%|███████   | 19/27 [00:10<00:04,  1.64it/s]\u001b[A\n",
            "Computing support features...:  74%|███████▍  | 20/27 [00:11<00:04,  1.72it/s]\u001b[A\n",
            "Computing support features...:  78%|███████▊  | 21/27 [00:11<00:03,  1.77it/s]\u001b[A\n",
            "Computing support features...:  81%|████████▏ | 22/27 [00:12<00:02,  1.81it/s]\u001b[A\n",
            "Computing support features...:  85%|████████▌ | 23/27 [00:12<00:02,  1.81it/s]\u001b[A\n",
            "Computing support features...:  89%|████████▉ | 24/27 [00:13<00:01,  1.81it/s]\u001b[A\n",
            "Computing support features...:  93%|█████████▎| 25/27 [00:14<00:01,  1.82it/s]\u001b[A\n",
            "Computing support features...:  96%|█████████▋| 26/27 [00:14<00:00,  1.85it/s]\u001b[A\n",
            "Computing support features...: 100%|██████████| 27/27 [00:14<00:00,  2.10it/s]\u001b[A\n",
            "Subsampling...: 100%|██████████| 21529/21529 [00:38<00:00, 564.37it/s]\n"
          ]
        },
        {
          "output_type": "stream",
          "name": "stdout",
          "text": [
            "training complete\n"
          ]
        }
      ],
      "source": [
        "model.train()"
      ]
    },
    {
      "cell_type": "markdown",
      "metadata": {
        "id": "59mp_VOTdGQi"
      },
      "source": [
        "## Evaluate the model"
      ]
    },
    {
      "cell_type": "code",
      "execution_count": 8,
      "metadata": {
        "colab": {
          "base_uri": "https://localhost:8080/"
        },
        "id": "FzCf-17TdGQi",
        "outputId": "2cdecdfa-e944-40ab-928f-be0771f925f5"
      },
      "outputs": [
        {
          "output_type": "stream",
          "name": "stdout",
          "text": [
            "Testing on disease:  absent_septum\n"
          ]
        },
        {
          "output_type": "stream",
          "name": "stderr",
          "text": []
        },
        {
          "output_type": "stream",
          "name": "stdout",
          "text": [
            "Testing on disease:  artefacts\n"
          ]
        },
        {
          "output_type": "stream",
          "name": "stderr",
          "text": []
        },
        {
          "output_type": "stream",
          "name": "stdout",
          "text": [
            "Testing on disease:  craniatomy\n"
          ]
        },
        {
          "output_type": "stream",
          "name": "stderr",
          "text": []
        },
        {
          "output_type": "stream",
          "name": "stdout",
          "text": [
            "Testing on disease:  dural\n"
          ]
        },
        {
          "output_type": "stream",
          "name": "stderr",
          "text": []
        },
        {
          "output_type": "stream",
          "name": "stdout",
          "text": [
            "Testing on disease:  ea_mass\n"
          ]
        },
        {
          "output_type": "stream",
          "name": "stderr",
          "text": []
        },
        {
          "output_type": "stream",
          "name": "stdout",
          "text": [
            "Testing on disease:  edema\n"
          ]
        },
        {
          "output_type": "stream",
          "name": "stderr",
          "text": []
        },
        {
          "output_type": "stream",
          "name": "stdout",
          "text": [
            "Testing on disease:  encephalomalacia\n"
          ]
        },
        {
          "output_type": "stream",
          "name": "stderr",
          "text": []
        },
        {
          "output_type": "stream",
          "name": "stdout",
          "text": [
            "Testing on disease:  enlarged_ventricles\n"
          ]
        },
        {
          "output_type": "stream",
          "name": "stderr",
          "text": []
        },
        {
          "output_type": "stream",
          "name": "stdout",
          "text": [
            "Testing on disease:  intraventricular\n"
          ]
        },
        {
          "output_type": "stream",
          "name": "stderr",
          "text": []
        },
        {
          "output_type": "stream",
          "name": "stdout",
          "text": [
            "Testing on disease:  lesions\n"
          ]
        },
        {
          "output_type": "stream",
          "name": "stderr",
          "text": []
        },
        {
          "output_type": "stream",
          "name": "stdout",
          "text": [
            "Testing on disease:  mass\n"
          ]
        },
        {
          "output_type": "stream",
          "name": "stderr",
          "text": []
        },
        {
          "output_type": "stream",
          "name": "stdout",
          "text": [
            "Testing on disease:  posttreatment\n"
          ]
        },
        {
          "output_type": "stream",
          "name": "stderr",
          "text": []
        },
        {
          "output_type": "stream",
          "name": "stdout",
          "text": [
            "Testing on disease:  resection\n"
          ]
        },
        {
          "output_type": "stream",
          "name": "stderr",
          "text": []
        },
        {
          "output_type": "stream",
          "name": "stdout",
          "text": [
            "Testing on disease:  sinus\n"
          ]
        },
        {
          "output_type": "stream",
          "name": "stderr",
          "text": []
        },
        {
          "output_type": "stream",
          "name": "stdout",
          "text": [
            "Testing on disease:  wml\n"
          ]
        },
        {
          "output_type": "stream",
          "name": "stderr",
          "text": []
        },
        {
          "output_type": "stream",
          "name": "stdout",
          "text": [
            "Testing on disease:  other\n"
          ]
        },
        {
          "output_type": "stream",
          "name": "stderr",
          "text": []
        }
      ],
      "source": [
        "results_collect = model.test()"
      ]
    },
    {
      "cell_type": "markdown",
      "source": [
        "## Print chosen scores"
      ],
      "metadata": {
        "id": "QO0jF66uleHr"
      }
    },
    {
      "cell_type": "markdown",
      "source": [
        "## *F1 Scores*"
      ],
      "metadata": {
        "id": "DnPmCuNJllJZ"
      }
    },
    {
      "cell_type": "code",
      "execution_count": 14,
      "metadata": {
        "colab": {
          "base_uri": "https://localhost:8080/"
        },
        "id": "2i1xqjMrdGQi",
        "outputId": "3eb00222-1bdb-4057-d2ed-8169e635009f"
      },
      "outputs": [
        {
          "output_type": "stream",
          "name": "stdout",
          "text": [
            "absent_septum 0.6975717434283683\n",
            "artefacts 0.13187198445535298\n",
            "craniatomy 0.1191458065061523\n",
            "dural 0.3662225538710157\n",
            "ea_mass 0.22071035139958303\n",
            "edema 0.32257058579843007\n",
            "encephalomalacia 0.6110183634416794\n",
            "enlarged_ventricles 0.4436646250175046\n",
            "intraventricular 0.7613469980362237\n",
            "lesions 0.10802226296873671\n",
            "mass 0.2015865126119261\n",
            "posttreatment 0.09307250953752105\n",
            "resection 0.2894551498994228\n",
            "sinus 0.022374934557482892\n",
            "wml 0.15774931018541555\n",
            "other 0.26952617624695385\n"
          ]
        }
      ],
      "source": [
        "for i,p in enumerate(config['pathologies']):\n",
        "  print(p, np.mean(results_collect[i][\"pixel_f1\"]))"
      ]
    },
    {
      "cell_type": "markdown",
      "source": [
        "## *Full Pixel AUROC*"
      ],
      "metadata": {
        "id": "OwEPJPGFl5q3"
      }
    },
    {
      "cell_type": "code",
      "source": [
        "for i,p in enumerate(config['pathologies']):\n",
        "  print(p, np.mean(results_collect[i][\"full_pixel_auroc\"]))"
      ],
      "metadata": {
        "colab": {
          "base_uri": "https://localhost:8080/"
        },
        "id": "PFW4sulolP1N",
        "outputId": "a63cdb37-51cb-4417-8ec6-3862886cc9da"
      },
      "execution_count": 12,
      "outputs": [
        {
          "output_type": "stream",
          "name": "stdout",
          "text": [
            "absent_septum 0.9938138710274934\n",
            "artefacts 0.8141021915099436\n",
            "craniatomy 0.7953374447510114\n",
            "dural 0.816499154035703\n",
            "ea_mass 0.9482810679596494\n",
            "edema 0.8763472141766787\n",
            "encephalomalacia 0.9499094352743671\n",
            "enlarged_ventricles 0.9402624352855339\n",
            "intraventricular 0.9871902216120263\n",
            "lesions 0.9177658304167925\n",
            "mass 0.9667672831829378\n",
            "posttreatment 0.7765881297298923\n",
            "resection 0.9286457257395365\n",
            "sinus 0.6228365281973547\n",
            "wml 0.8862966503287985\n",
            "other 0.9012789413105207\n"
          ]
        }
      ]
    },
    {
      "cell_type": "markdown",
      "metadata": {
        "id": "0qLzrkxmdGQi"
      },
      "source": [
        "## Visualize the scores"
      ]
    },
    {
      "cell_type": "code",
      "execution_count": 10,
      "metadata": {
        "colab": {
          "base_uri": "https://localhost:8080/",
          "height": 542
        },
        "id": "OtchsTK7dGQi",
        "outputId": "199159f2-1b95-4f61-b89d-1cb05ff04f63"
      },
      "outputs": [
        {
          "output_type": "display_data",
          "data": {
            "text/html": [
              "<html>\n",
              "<head><meta charset=\"utf-8\" /></head>\n",
              "<body>\n",
              "    <div>            <script src=\"https://cdnjs.cloudflare.com/ajax/libs/mathjax/2.7.5/MathJax.js?config=TeX-AMS-MML_SVG\"></script><script type=\"text/javascript\">if (window.MathJax && window.MathJax.Hub && window.MathJax.Hub.Config) {window.MathJax.Hub.Config({SVG: {font: \"STIX-Web\"}});}</script>                <script type=\"text/javascript\">window.PlotlyConfig = {MathJaxConfig: 'local'};</script>\n",
              "        <script src=\"https://cdn.plot.ly/plotly-2.18.2.min.js\"></script>                <div id=\"f1f77db9-3f50-4ecb-9d5d-3b75b3162c9b\" class=\"plotly-graph-div\" style=\"height:525px; width:100%;\"></div>            <script type=\"text/javascript\">                                    window.PLOTLYENV=window.PLOTLYENV || {};                                    if (document.getElementById(\"f1f77db9-3f50-4ecb-9d5d-3b75b3162c9b\")) {                    Plotly.newPlot(                        \"f1f77db9-3f50-4ecb-9d5d-3b75b3162c9b\",                        [{\"boxmean\":\"sd\",\"name\":\"F1\",\"x\":[\"absent_septum\",\"artefacts\",\"artefacts\",\"artefacts\",\"artefacts\",\"artefacts\",\"artefacts\",\"artefacts\",\"artefacts\",\"artefacts\",\"artefacts\",\"artefacts\",\"artefacts\",\"artefacts\",\"artefacts\",\"artefacts\",\"artefacts\",\"craniatomy\",\"craniatomy\",\"craniatomy\",\"craniatomy\",\"craniatomy\",\"craniatomy\",\"craniatomy\",\"craniatomy\",\"craniatomy\",\"craniatomy\",\"craniatomy\",\"craniatomy\",\"craniatomy\",\"craniatomy\",\"craniatomy\",\"dural\",\"dural\",\"dural\",\"dural\",\"dural\",\"dural\",\"dural\",\"ea_mass\",\"ea_mass\",\"ea_mass\",\"ea_mass\",\"edema\",\"edema\",\"edema\",\"edema\",\"edema\",\"edema\",\"edema\",\"edema\",\"edema\",\"edema\",\"edema\",\"edema\",\"edema\",\"edema\",\"edema\",\"edema\",\"edema\",\"edema\",\"encephalomalacia\",\"enlarged_ventricles\",\"enlarged_ventricles\",\"enlarged_ventricles\",\"enlarged_ventricles\",\"enlarged_ventricles\",\"enlarged_ventricles\",\"enlarged_ventricles\",\"enlarged_ventricles\",\"enlarged_ventricles\",\"enlarged_ventricles\",\"enlarged_ventricles\",\"enlarged_ventricles\",\"enlarged_ventricles\",\"enlarged_ventricles\",\"enlarged_ventricles\",\"enlarged_ventricles\",\"enlarged_ventricles\",\"enlarged_ventricles\",\"enlarged_ventricles\",\"intraventricular\",\"lesions\",\"lesions\",\"lesions\",\"lesions\",\"lesions\",\"lesions\",\"lesions\",\"lesions\",\"lesions\",\"lesions\",\"lesions\",\"lesions\",\"lesions\",\"lesions\",\"lesions\",\"lesions\",\"lesions\",\"lesions\",\"lesions\",\"lesions\",\"lesions\",\"lesions\",\"mass\",\"mass\",\"mass\",\"mass\",\"mass\",\"mass\",\"mass\",\"mass\",\"mass\",\"mass\",\"mass\",\"mass\",\"mass\",\"mass\",\"mass\",\"mass\",\"mass\",\"mass\",\"mass\",\"mass\",\"mass\",\"mass\",\"posttreatment\",\"posttreatment\",\"posttreatment\",\"posttreatment\",\"posttreatment\",\"posttreatment\",\"posttreatment\",\"posttreatment\",\"posttreatment\",\"posttreatment\",\"posttreatment\",\"posttreatment\",\"posttreatment\",\"posttreatment\",\"posttreatment\",\"posttreatment\",\"posttreatment\",\"posttreatment\",\"posttreatment\",\"posttreatment\",\"posttreatment\",\"posttreatment\",\"posttreatment\",\"posttreatment\",\"posttreatment\",\"posttreatment\",\"posttreatment\",\"posttreatment\",\"posttreatment\",\"posttreatment\",\"posttreatment\",\"posttreatment\",\"posttreatment\",\"posttreatment\",\"posttreatment\",\"posttreatment\",\"posttreatment\",\"posttreatment\",\"posttreatment\",\"posttreatment\",\"posttreatment\",\"posttreatment\",\"posttreatment\",\"posttreatment\",\"resection\",\"resection\",\"resection\",\"resection\",\"resection\",\"resection\",\"resection\",\"resection\",\"resection\",\"resection\",\"sinus\",\"sinus\",\"wml\",\"wml\",\"wml\",\"wml\",\"wml\",\"other\",\"other\",\"other\",\"other\",\"other\"],\"y\":[0.6975717434283683,0.0,0.0,0.0,0.0,0.0,0.6235632179081291,0.0,0.0,0.0,0.0,0.614250613754686,0.6099656352447377,0.2621722843780948,0.0,0.0,0.0,0.0,0.0,0.0,0.37619263938861625,0.5719557190677369,0.02042042028665278,0.0,0.3097112856010935,0.0,0.0,0.049645389989422486,0.23662884905215456,0.0,0.0,0.22263279420660778,0.3206497213873598,0.3439583077909886,0.366900678693355,0.4638675813271762,0.08060639666033519,0.06371814086783513,0.9238570503700599,0.0,0.0,0.11961722473870791,0.7632241808596242,0.22618037835666363,0.6595570134480178,0.16420664162264775,0.04146420428833959,0.5337101327629188,0.29353233780832466,0.0,0.520110956523649,0.573144875885089,0.3459419753440037,0.13712480202788357,0.48057381899878415,0.2075543683755631,0.26407950732579843,0.5459619168710877,0.14081826788077503,0.17164179060037904,0.500667556251815,0.6110183634416794,0.439471006676843,0.10459987350129142,0.1665278929609117,0.8265127301611817,0.0,0.4389254938284925,0.30667920952368954,0.6167899082206821,0.7853375522444118,0.0,0.6754027921958835,0.038391224727319366,0.6044226039868904,0.7389140266589921,0.7778332496276905,0.5501006031908986,0.5195381877929478,0.04811188802382732,0.7920696320106342,0.7613469980362237,0.0,0.0,0.0,0.0,0.0,0.0,0.0,0.0,0.0,0.0,0.0,0.0,0.0,0.1645949419834709,0.5581395344194159,0.0,0.0,0.19999999979469388,0.7066326525662052,0.7471226565484219,0.0,0.0,0.0,0.5897714902762976,0.6910599769047882,0.0,0.5965909086679382,0.0,0.012953367786715754,0.6881720425112894,0.0,0.3462768384311411,0.0,0.3204134364156267,0.10576923066899858,0.09661835739592003,0.3616366032642375,0.0,0.0,0.0,0.6256410251394214,0.0,0.0,0.0,0.33227848073532135,0.051660516551299676,0.11903513348848528,0.4738213688687064,0.0,0.0,0.6207292558885191,0.016438356128078434,0.05975013573676639,0.0,0.04629954397440638,0.0,0.0,0.07101947300856888,0.0,0.0,0.0,0.0,0.4792932077824217,0.0,0.12290502781758007,0.42595768961715835,0.248764414673733,0.0,0.17005879650127473,0.006344171261405474,0.0,0.0,0.07499205583892701,0.0,0.2054322872716703,0.03160270874239359,0.004979253054066425,0.04577968521992264,0.010212765947284453,0.15686274493307117,0.03366105643993951,0.0,0.029339218449611133,0.038870056424117005,0.05028058352896739,0.008420343541630529,0.14352840649872142,0.016873681726878503,0.7498817962034116,0.0,0.0,0.5642317376295007,0.7314949196842776,0.24742268019491975,0.0,0.0,0.5591603048626737,0.04236006041944425,0.010189784730658182,0.034560084384307604,0.25955353741952647,0.16355489146664604,0.07896468516212649,0.18178079356943455,0.10489264330934409,0.6722689070617541,0.3181818178205372,0.357180156352478,0.0,0.0],\"type\":\"box\"}],                        {\"template\":{\"data\":{\"histogram2dcontour\":[{\"type\":\"histogram2dcontour\",\"colorbar\":{\"outlinewidth\":0,\"ticks\":\"\"},\"colorscale\":[[0.0,\"#0d0887\"],[0.1111111111111111,\"#46039f\"],[0.2222222222222222,\"#7201a8\"],[0.3333333333333333,\"#9c179e\"],[0.4444444444444444,\"#bd3786\"],[0.5555555555555556,\"#d8576b\"],[0.6666666666666666,\"#ed7953\"],[0.7777777777777778,\"#fb9f3a\"],[0.8888888888888888,\"#fdca26\"],[1.0,\"#f0f921\"]]}],\"choropleth\":[{\"type\":\"choropleth\",\"colorbar\":{\"outlinewidth\":0,\"ticks\":\"\"}}],\"histogram2d\":[{\"type\":\"histogram2d\",\"colorbar\":{\"outlinewidth\":0,\"ticks\":\"\"},\"colorscale\":[[0.0,\"#0d0887\"],[0.1111111111111111,\"#46039f\"],[0.2222222222222222,\"#7201a8\"],[0.3333333333333333,\"#9c179e\"],[0.4444444444444444,\"#bd3786\"],[0.5555555555555556,\"#d8576b\"],[0.6666666666666666,\"#ed7953\"],[0.7777777777777778,\"#fb9f3a\"],[0.8888888888888888,\"#fdca26\"],[1.0,\"#f0f921\"]]}],\"heatmap\":[{\"type\":\"heatmap\",\"colorbar\":{\"outlinewidth\":0,\"ticks\":\"\"},\"colorscale\":[[0.0,\"#0d0887\"],[0.1111111111111111,\"#46039f\"],[0.2222222222222222,\"#7201a8\"],[0.3333333333333333,\"#9c179e\"],[0.4444444444444444,\"#bd3786\"],[0.5555555555555556,\"#d8576b\"],[0.6666666666666666,\"#ed7953\"],[0.7777777777777778,\"#fb9f3a\"],[0.8888888888888888,\"#fdca26\"],[1.0,\"#f0f921\"]]}],\"heatmapgl\":[{\"type\":\"heatmapgl\",\"colorbar\":{\"outlinewidth\":0,\"ticks\":\"\"},\"colorscale\":[[0.0,\"#0d0887\"],[0.1111111111111111,\"#46039f\"],[0.2222222222222222,\"#7201a8\"],[0.3333333333333333,\"#9c179e\"],[0.4444444444444444,\"#bd3786\"],[0.5555555555555556,\"#d8576b\"],[0.6666666666666666,\"#ed7953\"],[0.7777777777777778,\"#fb9f3a\"],[0.8888888888888888,\"#fdca26\"],[1.0,\"#f0f921\"]]}],\"contourcarpet\":[{\"type\":\"contourcarpet\",\"colorbar\":{\"outlinewidth\":0,\"ticks\":\"\"}}],\"contour\":[{\"type\":\"contour\",\"colorbar\":{\"outlinewidth\":0,\"ticks\":\"\"},\"colorscale\":[[0.0,\"#0d0887\"],[0.1111111111111111,\"#46039f\"],[0.2222222222222222,\"#7201a8\"],[0.3333333333333333,\"#9c179e\"],[0.4444444444444444,\"#bd3786\"],[0.5555555555555556,\"#d8576b\"],[0.6666666666666666,\"#ed7953\"],[0.7777777777777778,\"#fb9f3a\"],[0.8888888888888888,\"#fdca26\"],[1.0,\"#f0f921\"]]}],\"surface\":[{\"type\":\"surface\",\"colorbar\":{\"outlinewidth\":0,\"ticks\":\"\"},\"colorscale\":[[0.0,\"#0d0887\"],[0.1111111111111111,\"#46039f\"],[0.2222222222222222,\"#7201a8\"],[0.3333333333333333,\"#9c179e\"],[0.4444444444444444,\"#bd3786\"],[0.5555555555555556,\"#d8576b\"],[0.6666666666666666,\"#ed7953\"],[0.7777777777777778,\"#fb9f3a\"],[0.8888888888888888,\"#fdca26\"],[1.0,\"#f0f921\"]]}],\"mesh3d\":[{\"type\":\"mesh3d\",\"colorbar\":{\"outlinewidth\":0,\"ticks\":\"\"}}],\"scatter\":[{\"fillpattern\":{\"fillmode\":\"overlay\",\"size\":10,\"solidity\":0.2},\"type\":\"scatter\"}],\"parcoords\":[{\"type\":\"parcoords\",\"line\":{\"colorbar\":{\"outlinewidth\":0,\"ticks\":\"\"}}}],\"scatterpolargl\":[{\"type\":\"scatterpolargl\",\"marker\":{\"colorbar\":{\"outlinewidth\":0,\"ticks\":\"\"}}}],\"bar\":[{\"error_x\":{\"color\":\"#2a3f5f\"},\"error_y\":{\"color\":\"#2a3f5f\"},\"marker\":{\"line\":{\"color\":\"#E5ECF6\",\"width\":0.5},\"pattern\":{\"fillmode\":\"overlay\",\"size\":10,\"solidity\":0.2}},\"type\":\"bar\"}],\"scattergeo\":[{\"type\":\"scattergeo\",\"marker\":{\"colorbar\":{\"outlinewidth\":0,\"ticks\":\"\"}}}],\"scatterpolar\":[{\"type\":\"scatterpolar\",\"marker\":{\"colorbar\":{\"outlinewidth\":0,\"ticks\":\"\"}}}],\"histogram\":[{\"marker\":{\"pattern\":{\"fillmode\":\"overlay\",\"size\":10,\"solidity\":0.2}},\"type\":\"histogram\"}],\"scattergl\":[{\"type\":\"scattergl\",\"marker\":{\"colorbar\":{\"outlinewidth\":0,\"ticks\":\"\"}}}],\"scatter3d\":[{\"type\":\"scatter3d\",\"line\":{\"colorbar\":{\"outlinewidth\":0,\"ticks\":\"\"}},\"marker\":{\"colorbar\":{\"outlinewidth\":0,\"ticks\":\"\"}}}],\"scattermapbox\":[{\"type\":\"scattermapbox\",\"marker\":{\"colorbar\":{\"outlinewidth\":0,\"ticks\":\"\"}}}],\"scatterternary\":[{\"type\":\"scatterternary\",\"marker\":{\"colorbar\":{\"outlinewidth\":0,\"ticks\":\"\"}}}],\"scattercarpet\":[{\"type\":\"scattercarpet\",\"marker\":{\"colorbar\":{\"outlinewidth\":0,\"ticks\":\"\"}}}],\"carpet\":[{\"aaxis\":{\"endlinecolor\":\"#2a3f5f\",\"gridcolor\":\"white\",\"linecolor\":\"white\",\"minorgridcolor\":\"white\",\"startlinecolor\":\"#2a3f5f\"},\"baxis\":{\"endlinecolor\":\"#2a3f5f\",\"gridcolor\":\"white\",\"linecolor\":\"white\",\"minorgridcolor\":\"white\",\"startlinecolor\":\"#2a3f5f\"},\"type\":\"carpet\"}],\"table\":[{\"cells\":{\"fill\":{\"color\":\"#EBF0F8\"},\"line\":{\"color\":\"white\"}},\"header\":{\"fill\":{\"color\":\"#C8D4E3\"},\"line\":{\"color\":\"white\"}},\"type\":\"table\"}],\"barpolar\":[{\"marker\":{\"line\":{\"color\":\"#E5ECF6\",\"width\":0.5},\"pattern\":{\"fillmode\":\"overlay\",\"size\":10,\"solidity\":0.2}},\"type\":\"barpolar\"}],\"pie\":[{\"automargin\":true,\"type\":\"pie\"}]},\"layout\":{\"autotypenumbers\":\"strict\",\"colorway\":[\"#636efa\",\"#EF553B\",\"#00cc96\",\"#ab63fa\",\"#FFA15A\",\"#19d3f3\",\"#FF6692\",\"#B6E880\",\"#FF97FF\",\"#FECB52\"],\"font\":{\"color\":\"#2a3f5f\"},\"hovermode\":\"closest\",\"hoverlabel\":{\"align\":\"left\"},\"paper_bgcolor\":\"white\",\"plot_bgcolor\":\"#E5ECF6\",\"polar\":{\"bgcolor\":\"#E5ECF6\",\"angularaxis\":{\"gridcolor\":\"white\",\"linecolor\":\"white\",\"ticks\":\"\"},\"radialaxis\":{\"gridcolor\":\"white\",\"linecolor\":\"white\",\"ticks\":\"\"}},\"ternary\":{\"bgcolor\":\"#E5ECF6\",\"aaxis\":{\"gridcolor\":\"white\",\"linecolor\":\"white\",\"ticks\":\"\"},\"baxis\":{\"gridcolor\":\"white\",\"linecolor\":\"white\",\"ticks\":\"\"},\"caxis\":{\"gridcolor\":\"white\",\"linecolor\":\"white\",\"ticks\":\"\"}},\"coloraxis\":{\"colorbar\":{\"outlinewidth\":0,\"ticks\":\"\"}},\"colorscale\":{\"sequential\":[[0.0,\"#0d0887\"],[0.1111111111111111,\"#46039f\"],[0.2222222222222222,\"#7201a8\"],[0.3333333333333333,\"#9c179e\"],[0.4444444444444444,\"#bd3786\"],[0.5555555555555556,\"#d8576b\"],[0.6666666666666666,\"#ed7953\"],[0.7777777777777778,\"#fb9f3a\"],[0.8888888888888888,\"#fdca26\"],[1.0,\"#f0f921\"]],\"sequentialminus\":[[0.0,\"#0d0887\"],[0.1111111111111111,\"#46039f\"],[0.2222222222222222,\"#7201a8\"],[0.3333333333333333,\"#9c179e\"],[0.4444444444444444,\"#bd3786\"],[0.5555555555555556,\"#d8576b\"],[0.6666666666666666,\"#ed7953\"],[0.7777777777777778,\"#fb9f3a\"],[0.8888888888888888,\"#fdca26\"],[1.0,\"#f0f921\"]],\"diverging\":[[0,\"#8e0152\"],[0.1,\"#c51b7d\"],[0.2,\"#de77ae\"],[0.3,\"#f1b6da\"],[0.4,\"#fde0ef\"],[0.5,\"#f7f7f7\"],[0.6,\"#e6f5d0\"],[0.7,\"#b8e186\"],[0.8,\"#7fbc41\"],[0.9,\"#4d9221\"],[1,\"#276419\"]]},\"xaxis\":{\"gridcolor\":\"white\",\"linecolor\":\"white\",\"ticks\":\"\",\"title\":{\"standoff\":15},\"zerolinecolor\":\"white\",\"automargin\":true,\"zerolinewidth\":2},\"yaxis\":{\"gridcolor\":\"white\",\"linecolor\":\"white\",\"ticks\":\"\",\"title\":{\"standoff\":15},\"zerolinecolor\":\"white\",\"automargin\":true,\"zerolinewidth\":2},\"scene\":{\"xaxis\":{\"backgroundcolor\":\"#E5ECF6\",\"gridcolor\":\"white\",\"linecolor\":\"white\",\"showbackground\":true,\"ticks\":\"\",\"zerolinecolor\":\"white\",\"gridwidth\":2},\"yaxis\":{\"backgroundcolor\":\"#E5ECF6\",\"gridcolor\":\"white\",\"linecolor\":\"white\",\"showbackground\":true,\"ticks\":\"\",\"zerolinecolor\":\"white\",\"gridwidth\":2},\"zaxis\":{\"backgroundcolor\":\"#E5ECF6\",\"gridcolor\":\"white\",\"linecolor\":\"white\",\"showbackground\":true,\"ticks\":\"\",\"zerolinecolor\":\"white\",\"gridwidth\":2}},\"shapedefaults\":{\"line\":{\"color\":\"#2a3f5f\"}},\"annotationdefaults\":{\"arrowcolor\":\"#2a3f5f\",\"arrowhead\":0,\"arrowwidth\":1},\"geo\":{\"bgcolor\":\"white\",\"landcolor\":\"#E5ECF6\",\"subunitcolor\":\"white\",\"showland\":true,\"showlakes\":true,\"lakecolor\":\"white\"},\"title\":{\"x\":0.05},\"mapbox\":{\"style\":\"light\"}}},\"yaxis\":{\"title\":{\"text\":\"F1 Score\"},\"range\":[0,1],\"tick0\":0,\"dtick\":0.1,\"showgrid\":false},\"boxmode\":\"group\"},                        {\"responsive\": true}                    ).then(function(){\n",
              "                            \n",
              "var gd = document.getElementById('f1f77db9-3f50-4ecb-9d5d-3b75b3162c9b');\n",
              "var x = new MutationObserver(function (mutations, observer) {{\n",
              "        var display = window.getComputedStyle(gd).display;\n",
              "        if (!display || display === 'none') {{\n",
              "            console.log([gd, 'removed!']);\n",
              "            Plotly.purge(gd);\n",
              "            observer.disconnect();\n",
              "        }}\n",
              "}});\n",
              "\n",
              "// Listen for the removal of the full notebook cells\n",
              "var notebookContainer = gd.closest('#notebook-container');\n",
              "if (notebookContainer) {{\n",
              "    x.observe(notebookContainer, {childList: true});\n",
              "}}\n",
              "\n",
              "// Listen for the clearing of the current output cell\n",
              "var outputEl = gd.closest('.output');\n",
              "if (outputEl) {{\n",
              "    x.observe(outputEl, {childList: true});\n",
              "}}\n",
              "\n",
              "                        })                };                            </script>        </div>\n",
              "</body>\n",
              "</html>"
            ]
          },
          "metadata": {}
        }
      ],
      "source": [
        "fig_bp = go.Figure()\n",
        "x = []\n",
        "y = []\n",
        "for i in range(len(config[\"pathologies\"])):\n",
        "  dataset_name = config[\"pathologies\"][i]\n",
        "  for dataset_val in results_collect[i][\"pixel_f1\"]:\n",
        "      y.append(dataset_val)\n",
        "      x.append(dataset_name)\n",
        "\n",
        "fig_bp.add_trace(go.Box(\n",
        "    y=y,\n",
        "    x=x,\n",
        "    name=\"F1\",\n",
        "    boxmean='sd'\n",
        "))\n",
        "title = 'score'\n",
        "fig_bp.update_layout(\n",
        "    yaxis_title=title,\n",
        "    boxmode='group',  # group together boxes of the different traces for each value of x\n",
        "    yaxis=dict(range=[0, 1]),\n",
        ")\n",
        "fig_bp.update_yaxes(range=[0, 1], title_text='F1 Score', tick0=0, dtick=0.1, showgrid=False)"
      ]
    }
  ],
  "metadata": {
    "language_info": {
      "name": "python"
    },
    "orig_nbformat": 4,
    "colab": {
      "provenance": [],
      "gpuType": "T4"
    },
    "kernelspec": {
      "name": "python3",
      "display_name": "Python 3"
    },
    "accelerator": "GPU",
    "widgets": {
      "application/vnd.jupyter.widget-state+json": {
        "5d6585e921194ee3a5a1121b903f9ee3": {
          "model_module": "@jupyter-widgets/controls",
          "model_name": "HBoxModel",
          "model_module_version": "1.5.0",
          "state": {
            "_dom_classes": [],
            "_model_module": "@jupyter-widgets/controls",
            "_model_module_version": "1.5.0",
            "_model_name": "HBoxModel",
            "_view_count": null,
            "_view_module": "@jupyter-widgets/controls",
            "_view_module_version": "1.5.0",
            "_view_name": "HBoxView",
            "box_style": "",
            "children": [
              "IPY_MODEL_1853da377ac4424e845f3f51e86290d9",
              "IPY_MODEL_9477f672d67a48f8b14a7b95e19de1c4",
              "IPY_MODEL_1df72780881e4aa2bd2308b6d41af5a4"
            ],
            "layout": "IPY_MODEL_19d60540278f47d59f26cc5a498d3372"
          }
        },
        "1853da377ac4424e845f3f51e86290d9": {
          "model_module": "@jupyter-widgets/controls",
          "model_name": "HTMLModel",
          "model_module_version": "1.5.0",
          "state": {
            "_dom_classes": [],
            "_model_module": "@jupyter-widgets/controls",
            "_model_module_version": "1.5.0",
            "_model_name": "HTMLModel",
            "_view_count": null,
            "_view_module": "@jupyter-widgets/controls",
            "_view_module_version": "1.5.0",
            "_view_name": "HTMLView",
            "description": "",
            "description_tooltip": null,
            "layout": "IPY_MODEL_6d3ebc5322d94673a90876d917f13798",
            "placeholder": "​",
            "style": "IPY_MODEL_c34f7d40409043588df52619af40140d",
            "value": "Downloading model.safetensors: 100%"
          }
        },
        "9477f672d67a48f8b14a7b95e19de1c4": {
          "model_module": "@jupyter-widgets/controls",
          "model_name": "FloatProgressModel",
          "model_module_version": "1.5.0",
          "state": {
            "_dom_classes": [],
            "_model_module": "@jupyter-widgets/controls",
            "_model_module_version": "1.5.0",
            "_model_name": "FloatProgressModel",
            "_view_count": null,
            "_view_module": "@jupyter-widgets/controls",
            "_view_module_version": "1.5.0",
            "_view_name": "ProgressView",
            "bar_style": "success",
            "description": "",
            "description_tooltip": null,
            "layout": "IPY_MODEL_afd2db06021842c5b24e4e030ff65094",
            "max": 81113690,
            "min": 0,
            "orientation": "horizontal",
            "style": "IPY_MODEL_f580342e55b64ff08e14b512e2c5dc51",
            "value": 81113690
          }
        },
        "1df72780881e4aa2bd2308b6d41af5a4": {
          "model_module": "@jupyter-widgets/controls",
          "model_name": "HTMLModel",
          "model_module_version": "1.5.0",
          "state": {
            "_dom_classes": [],
            "_model_module": "@jupyter-widgets/controls",
            "_model_module_version": "1.5.0",
            "_model_name": "HTMLModel",
            "_view_count": null,
            "_view_module": "@jupyter-widgets/controls",
            "_view_module_version": "1.5.0",
            "_view_name": "HTMLView",
            "description": "",
            "description_tooltip": null,
            "layout": "IPY_MODEL_4c9f52461787413e8c2884e4c8de7668",
            "placeholder": "​",
            "style": "IPY_MODEL_189efb1123d74709b206316153b174d3",
            "value": " 81.1M/81.1M [00:05&lt;00:00, 18.0MB/s]"
          }
        },
        "19d60540278f47d59f26cc5a498d3372": {
          "model_module": "@jupyter-widgets/base",
          "model_name": "LayoutModel",
          "model_module_version": "1.2.0",
          "state": {
            "_model_module": "@jupyter-widgets/base",
            "_model_module_version": "1.2.0",
            "_model_name": "LayoutModel",
            "_view_count": null,
            "_view_module": "@jupyter-widgets/base",
            "_view_module_version": "1.2.0",
            "_view_name": "LayoutView",
            "align_content": null,
            "align_items": null,
            "align_self": null,
            "border": null,
            "bottom": null,
            "display": null,
            "flex": null,
            "flex_flow": null,
            "grid_area": null,
            "grid_auto_columns": null,
            "grid_auto_flow": null,
            "grid_auto_rows": null,
            "grid_column": null,
            "grid_gap": null,
            "grid_row": null,
            "grid_template_areas": null,
            "grid_template_columns": null,
            "grid_template_rows": null,
            "height": null,
            "justify_content": null,
            "justify_items": null,
            "left": null,
            "margin": null,
            "max_height": null,
            "max_width": null,
            "min_height": null,
            "min_width": null,
            "object_fit": null,
            "object_position": null,
            "order": null,
            "overflow": null,
            "overflow_x": null,
            "overflow_y": null,
            "padding": null,
            "right": null,
            "top": null,
            "visibility": null,
            "width": null
          }
        },
        "6d3ebc5322d94673a90876d917f13798": {
          "model_module": "@jupyter-widgets/base",
          "model_name": "LayoutModel",
          "model_module_version": "1.2.0",
          "state": {
            "_model_module": "@jupyter-widgets/base",
            "_model_module_version": "1.2.0",
            "_model_name": "LayoutModel",
            "_view_count": null,
            "_view_module": "@jupyter-widgets/base",
            "_view_module_version": "1.2.0",
            "_view_name": "LayoutView",
            "align_content": null,
            "align_items": null,
            "align_self": null,
            "border": null,
            "bottom": null,
            "display": null,
            "flex": null,
            "flex_flow": null,
            "grid_area": null,
            "grid_auto_columns": null,
            "grid_auto_flow": null,
            "grid_auto_rows": null,
            "grid_column": null,
            "grid_gap": null,
            "grid_row": null,
            "grid_template_areas": null,
            "grid_template_columns": null,
            "grid_template_rows": null,
            "height": null,
            "justify_content": null,
            "justify_items": null,
            "left": null,
            "margin": null,
            "max_height": null,
            "max_width": null,
            "min_height": null,
            "min_width": null,
            "object_fit": null,
            "object_position": null,
            "order": null,
            "overflow": null,
            "overflow_x": null,
            "overflow_y": null,
            "padding": null,
            "right": null,
            "top": null,
            "visibility": null,
            "width": null
          }
        },
        "c34f7d40409043588df52619af40140d": {
          "model_module": "@jupyter-widgets/controls",
          "model_name": "DescriptionStyleModel",
          "model_module_version": "1.5.0",
          "state": {
            "_model_module": "@jupyter-widgets/controls",
            "_model_module_version": "1.5.0",
            "_model_name": "DescriptionStyleModel",
            "_view_count": null,
            "_view_module": "@jupyter-widgets/base",
            "_view_module_version": "1.2.0",
            "_view_name": "StyleView",
            "description_width": ""
          }
        },
        "afd2db06021842c5b24e4e030ff65094": {
          "model_module": "@jupyter-widgets/base",
          "model_name": "LayoutModel",
          "model_module_version": "1.2.0",
          "state": {
            "_model_module": "@jupyter-widgets/base",
            "_model_module_version": "1.2.0",
            "_model_name": "LayoutModel",
            "_view_count": null,
            "_view_module": "@jupyter-widgets/base",
            "_view_module_version": "1.2.0",
            "_view_name": "LayoutView",
            "align_content": null,
            "align_items": null,
            "align_self": null,
            "border": null,
            "bottom": null,
            "display": null,
            "flex": null,
            "flex_flow": null,
            "grid_area": null,
            "grid_auto_columns": null,
            "grid_auto_flow": null,
            "grid_auto_rows": null,
            "grid_column": null,
            "grid_gap": null,
            "grid_row": null,
            "grid_template_areas": null,
            "grid_template_columns": null,
            "grid_template_rows": null,
            "height": null,
            "justify_content": null,
            "justify_items": null,
            "left": null,
            "margin": null,
            "max_height": null,
            "max_width": null,
            "min_height": null,
            "min_width": null,
            "object_fit": null,
            "object_position": null,
            "order": null,
            "overflow": null,
            "overflow_x": null,
            "overflow_y": null,
            "padding": null,
            "right": null,
            "top": null,
            "visibility": null,
            "width": null
          }
        },
        "f580342e55b64ff08e14b512e2c5dc51": {
          "model_module": "@jupyter-widgets/controls",
          "model_name": "ProgressStyleModel",
          "model_module_version": "1.5.0",
          "state": {
            "_model_module": "@jupyter-widgets/controls",
            "_model_module_version": "1.5.0",
            "_model_name": "ProgressStyleModel",
            "_view_count": null,
            "_view_module": "@jupyter-widgets/base",
            "_view_module_version": "1.2.0",
            "_view_name": "StyleView",
            "bar_color": null,
            "description_width": ""
          }
        },
        "4c9f52461787413e8c2884e4c8de7668": {
          "model_module": "@jupyter-widgets/base",
          "model_name": "LayoutModel",
          "model_module_version": "1.2.0",
          "state": {
            "_model_module": "@jupyter-widgets/base",
            "_model_module_version": "1.2.0",
            "_model_name": "LayoutModel",
            "_view_count": null,
            "_view_module": "@jupyter-widgets/base",
            "_view_module_version": "1.2.0",
            "_view_name": "LayoutView",
            "align_content": null,
            "align_items": null,
            "align_self": null,
            "border": null,
            "bottom": null,
            "display": null,
            "flex": null,
            "flex_flow": null,
            "grid_area": null,
            "grid_auto_columns": null,
            "grid_auto_flow": null,
            "grid_auto_rows": null,
            "grid_column": null,
            "grid_gap": null,
            "grid_row": null,
            "grid_template_areas": null,
            "grid_template_columns": null,
            "grid_template_rows": null,
            "height": null,
            "justify_content": null,
            "justify_items": null,
            "left": null,
            "margin": null,
            "max_height": null,
            "max_width": null,
            "min_height": null,
            "min_width": null,
            "object_fit": null,
            "object_position": null,
            "order": null,
            "overflow": null,
            "overflow_x": null,
            "overflow_y": null,
            "padding": null,
            "right": null,
            "top": null,
            "visibility": null,
            "width": null
          }
        },
        "189efb1123d74709b206316153b174d3": {
          "model_module": "@jupyter-widgets/controls",
          "model_name": "DescriptionStyleModel",
          "model_module_version": "1.5.0",
          "state": {
            "_model_module": "@jupyter-widgets/controls",
            "_model_module_version": "1.5.0",
            "_model_name": "DescriptionStyleModel",
            "_view_count": null,
            "_view_module": "@jupyter-widgets/base",
            "_view_module_version": "1.2.0",
            "_view_name": "StyleView",
            "description_width": ""
          }
        }
      }
    }
  },
  "nbformat": 4,
  "nbformat_minor": 0
}